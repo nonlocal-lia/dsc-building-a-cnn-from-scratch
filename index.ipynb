{
 "cells": [
  {
   "cell_type": "markdown",
   "metadata": {},
   "source": [
    "# Building a CNN from Scratch - Lab\n",
    "\n",
    "## Introduction\n",
    "\n",
    "Now that you have background knowledge regarding how CNNs work and how to build them using Keras, its time to practice those skills a little more independently in order to build a CNN on your own to solve a image recognition problem. In this lab, you'll practice building an image classifier from start to finish using a CNN.  \n",
    "\n",
    "## Objectives\n",
    "\n",
    "In this lab you will: \n",
    "\n",
    "- Load images from a hierarchical file structure using an image datagenerator \n",
    "- Apply data augmentation to image files before training a neural network \n",
    "- Build a CNN using Keras \n",
    "- Visualize and evaluate the performance of CNN models \n",
    "\n",
    "## Loading the Images\n",
    "\n",
    "The data for this lab are a bunch of pictures of cats and dogs, and our task is to correctly classify a picture as one or the other. The [original dataset](https://www.kaggle.com/c/dogs-vs-cats) is from Kaggle. We have downsampled this dataset in order to reduce training time for you when you design and fit your model to the data. ⏰ It is anticipated that this process will take approximately one hour to run on a standard machine, although times will vary depending on your particular computer and set up. At the end of this lab, you are welcome to try training on the complete dataset and observe the impact on the model's overall accuracy. \n",
    "\n",
    "You can find the initial downsampled dataset in a subdirectory, **cats_dogs_downsampled**, of this repository. "
   ]
  },
  {
   "cell_type": "code",
   "execution_count": 1,
   "metadata": {},
   "outputs": [],
   "source": [
    "from keras.preprocessing.image import ImageDataGenerator"
   ]
  },
  {
   "cell_type": "code",
   "execution_count": 2,
   "metadata": {},
   "outputs": [],
   "source": [
    "# Load the images; be sure to also preprocess these into tensors \n",
    "\n",
    "train_dir = 'cats_dogs_downsampled/train'\n",
    "validation_dir = 'cats_dogs_downsampled/val/'\n",
    "test_dir = 'cats_dogs_downsampled/test/' "
   ]
  },
  {
   "cell_type": "code",
   "execution_count": 3,
   "metadata": {},
   "outputs": [
    {
     "name": "stdout",
     "output_type": "stream",
     "text": [
      "Found 2140 images belonging to 2 classes.\n",
      "Found 420 images belonging to 2 classes.\n"
     ]
    }
   ],
   "source": [
    "train_datagen = ImageDataGenerator(rescale=1./255)\n",
    "val_datagen = ImageDataGenerator(rescale=1./255)\n",
    "\n",
    "train_generator = train_datagen.flow_from_directory(\n",
    "        # This is the target directory\n",
    "        train_dir,\n",
    "        # All images will be resized to 150x150\n",
    "        target_size=(150, 150),\n",
    "        batch_size=20,\n",
    "        # Since we use binary_crossentropy loss, we need binary labels\n",
    "        class_mode='binary')\n",
    "\n",
    "validation_generator = val_datagen.flow_from_directory(validation_dir,\n",
    "                                                        target_size=(150, 150),\n",
    "                                                        batch_size=20,\n",
    "                                                        class_mode='binary')"
   ]
  },
  {
   "cell_type": "markdown",
   "metadata": {},
   "source": [
    "## Designing the Model\n",
    "\n",
    "Now it's time to design your CNN using Keras! Remember a few things when doing this: \n",
    "\n",
    "- You should alternate convolutional and pooling layers\n",
    "- You should have later layers have a larger number of parameters in order to detect more abstract patterns\n",
    "- Add some final dense layers to add a classifier to the convolutional base \n",
    "- Compile this model "
   ]
  },
  {
   "cell_type": "code",
   "execution_count": 4,
   "metadata": {},
   "outputs": [],
   "source": [
    "# Your code here; design and compile the model\n",
    "from keras import layers\n",
    "from keras import models\n",
    "\n",
    "model = models.Sequential()\n",
    "model.add(layers.Conv2D(32, (3, 3), activation='relu',\n",
    "                        input_shape=(150, 150, 3)))\n",
    "model.add(layers.MaxPooling2D((2, 2)))\n",
    "model.add(layers.Conv2D(64, (3, 3), activation='relu'))\n",
    "model.add(layers.MaxPooling2D((2, 2)))\n",
    "model.add(layers.Conv2D(128, (3, 3), activation='relu'))\n",
    "model.add(layers.MaxPooling2D((2, 2)))\n",
    "model.add(layers.Conv2D(128, (3, 3), activation='relu'))\n",
    "model.add(layers.MaxPooling2D((2, 2)))\n",
    "model.add(layers.Flatten())\n",
    "model.add(layers.Dense(512, activation='relu'))\n",
    "model.add(layers.Dense(1, activation='sigmoid'))"
   ]
  },
  {
   "cell_type": "code",
   "execution_count": 5,
   "metadata": {},
   "outputs": [],
   "source": [
    "from keras import optimizers\n",
    "\n",
    "model.compile(loss='binary_crossentropy',\n",
    "              optimizer=optimizers.RMSprop(lr=1e-4),\n",
    "              metrics=['acc'])"
   ]
  },
  {
   "cell_type": "markdown",
   "metadata": {},
   "source": [
    "## Training and Evaluating the Model\n",
    "\n",
    "Remember that training deep networks is resource intensive: depending on the size of the data, even a CNN with 3-4 successive convolutional and pooling layers is apt to take a hours to train on a high end laptop. Using 30 epochs and 8 layers (alternating between convolutional and pooling), our model took about 40 minutes to run on a year old macbook pro.\n",
    "\n",
    "\n",
    "If you are concerned with runtime, you may want to set your model to run the training epochs overnight.  \n",
    "\n",
    "**If you are going to run this process overnight, be sure to also script code for the following questions concerning data augmentation. Check your code twice (or more) and then set the notebook to run all, or something equivalent to have them train overnight.** "
   ]
  },
  {
   "cell_type": "code",
   "execution_count": 6,
   "metadata": {},
   "outputs": [
    {
     "name": "stdout",
     "output_type": "stream",
     "text": [
      "Epoch 1/30\n",
      "100/100 [==============================] - 31s 314ms/step - loss: 0.6844 - acc: 0.5420 - val_loss: 0.6739 - val_acc: 0.5300\n",
      "Epoch 2/30\n",
      "100/100 [==============================] - 32s 318ms/step - loss: 0.6541 - acc: 0.6175 - val_loss: 0.6365 - val_acc: 0.6425\n",
      "Epoch 3/30\n",
      "100/100 [==============================] - 30s 299ms/step - loss: 0.6068 - acc: 0.6715 - val_loss: 0.6212 - val_acc: 0.6575\n",
      "Epoch 4/30\n",
      "100/100 [==============================] - 31s 311ms/step - loss: 0.5610 - acc: 0.7055 - val_loss: 0.5744 - val_acc: 0.7000\n",
      "Epoch 5/30\n",
      "100/100 [==============================] - 30s 298ms/step - loss: 0.5358 - acc: 0.7200 - val_loss: 0.5349 - val_acc: 0.7450\n",
      "Epoch 6/30\n",
      "100/100 [==============================] - 30s 299ms/step - loss: 0.5103 - acc: 0.7435 - val_loss: 0.5578 - val_acc: 0.6975\n",
      "Epoch 7/30\n",
      "100/100 [==============================] - 30s 301ms/step - loss: 0.4842 - acc: 0.7665 - val_loss: 0.5568 - val_acc: 0.7350\n",
      "Epoch 8/30\n",
      "100/100 [==============================] - 30s 300ms/step - loss: 0.4636 - acc: 0.7745 - val_loss: 0.5217 - val_acc: 0.7400\n",
      "Epoch 9/30\n",
      "100/100 [==============================] - 30s 301ms/step - loss: 0.4302 - acc: 0.8035 - val_loss: 0.6791 - val_acc: 0.6675\n",
      "Epoch 10/30\n",
      "100/100 [==============================] - 30s 305ms/step - loss: 0.4120 - acc: 0.8035 - val_loss: 0.4955 - val_acc: 0.7675\n",
      "Epoch 11/30\n",
      "100/100 [==============================] - 30s 303ms/step - loss: 0.3775 - acc: 0.8325 - val_loss: 0.5192 - val_acc: 0.7450\n",
      "Epoch 12/30\n",
      "100/100 [==============================] - 30s 301ms/step - loss: 0.3676 - acc: 0.8370 - val_loss: 0.4991 - val_acc: 0.7650\n",
      "Epoch 13/30\n",
      "100/100 [==============================] - 30s 302ms/step - loss: 0.3303 - acc: 0.8620 - val_loss: 0.5220 - val_acc: 0.7600\n",
      "Epoch 14/30\n",
      "100/100 [==============================] - 30s 301ms/step - loss: 0.3137 - acc: 0.8765 - val_loss: 0.5309 - val_acc: 0.7325\n",
      "Epoch 15/30\n",
      "100/100 [==============================] - 30s 301ms/step - loss: 0.2939 - acc: 0.8740 - val_loss: 0.5331 - val_acc: 0.7500\n",
      "Epoch 16/30\n",
      "100/100 [==============================] - 30s 299ms/step - loss: 0.2731 - acc: 0.8870 - val_loss: 0.5435 - val_acc: 0.7725\n",
      "Epoch 17/30\n",
      "100/100 [==============================] - 30s 299ms/step - loss: 0.2501 - acc: 0.9005 - val_loss: 0.5587 - val_acc: 0.7625\n",
      "Epoch 18/30\n",
      "100/100 [==============================] - 30s 304ms/step - loss: 0.2242 - acc: 0.9125 - val_loss: 0.5628 - val_acc: 0.7575\n",
      "Epoch 19/30\n",
      "100/100 [==============================] - 30s 300ms/step - loss: 0.2011 - acc: 0.9275 - val_loss: 0.6039 - val_acc: 0.7550\n",
      "Epoch 20/30\n",
      "100/100 [==============================] - 30s 299ms/step - loss: 0.1804 - acc: 0.9380 - val_loss: 0.5790 - val_acc: 0.7675\n",
      "Epoch 21/30\n",
      "100/100 [==============================] - 30s 299ms/step - loss: 0.1620 - acc: 0.9395 - val_loss: 0.6413 - val_acc: 0.7500\n",
      "Epoch 22/30\n",
      "100/100 [==============================] - 30s 299ms/step - loss: 0.1433 - acc: 0.9530 - val_loss: 0.6390 - val_acc: 0.7700\n",
      "Epoch 23/30\n",
      "100/100 [==============================] - 30s 301ms/step - loss: 0.1314 - acc: 0.9605 - val_loss: 0.6621 - val_acc: 0.7550\n",
      "Epoch 24/30\n",
      "100/100 [==============================] - 30s 300ms/step - loss: 0.1196 - acc: 0.9590 - val_loss: 0.7120 - val_acc: 0.7575\n",
      "Epoch 25/30\n",
      "100/100 [==============================] - 30s 298ms/step - loss: 0.1047 - acc: 0.9605 - val_loss: 0.7109 - val_acc: 0.7550\n",
      "Epoch 26/30\n",
      "100/100 [==============================] - 30s 302ms/step - loss: 0.0807 - acc: 0.9765 - val_loss: 0.7887 - val_acc: 0.7450\n",
      "Epoch 27/30\n",
      "100/100 [==============================] - 30s 300ms/step - loss: 0.0757 - acc: 0.9780 - val_loss: 0.7443 - val_acc: 0.7650\n",
      "Epoch 28/30\n",
      "100/100 [==============================] - 30s 300ms/step - loss: 0.0635 - acc: 0.9835 - val_loss: 0.8657 - val_acc: 0.7500\n",
      "Epoch 29/30\n",
      "100/100 [==============================] - 30s 300ms/step - loss: 0.0557 - acc: 0.9865 - val_loss: 0.8566 - val_acc: 0.7625\n",
      "Epoch 30/30\n",
      "100/100 [==============================] - 30s 303ms/step - loss: 0.0522 - acc: 0.9845 - val_loss: 0.8639 - val_acc: 0.7625\n"
     ]
    }
   ],
   "source": [
    "# Set the model to train \n",
    "# ⏰ This cell may take several minutes to run \n",
    "history = model.fit(train_generator, \n",
    "                              steps_per_epoch=100, \n",
    "                              epochs=30, \n",
    "                              validation_data=validation_generator, \n",
    "                              validation_steps=20)"
   ]
  },
  {
   "cell_type": "code",
   "execution_count": 7,
   "metadata": {},
   "outputs": [
    {
     "data": {
      "image/png": "[encoded data removed]",
      "text/plain": [
       "<Figure size 432x288 with 1 Axes>"
      ]
     },
     "metadata": {
      "needs_background": "light"
     },
     "output_type": "display_data"
    },
    {
     "data": {
      "image/png": "[encoded data removed]",
      "text/plain": [
       "<Figure size 432x288 with 1 Axes>"
      ]
     },
     "metadata": {
      "needs_background": "light"
     },
     "output_type": "display_data"
    }
   ],
   "source": [
    "# Plot history\n",
    "import matplotlib.pyplot as plt\n",
    "%matplotlib inline\n",
    "\n",
    "acc = history.history['acc']\n",
    "val_acc = history.history['val_acc']\n",
    "loss = history.history['loss']\n",
    "val_loss = history.history['val_loss']\n",
    "epochs = range(len(acc))\n",
    "plt.plot(epochs, acc, 'bo', label='Training acc')\n",
    "plt.plot(epochs, val_acc, 'b', label='Validation acc')\n",
    "plt.title('Training and validation accuracy')\n",
    "plt.legend()\n",
    "plt.figure()\n",
    "plt.plot(epochs, loss, 'bo', label='Training loss')\n",
    "plt.plot(epochs, val_loss, 'b', label='Validation loss')\n",
    "plt.title('Training and validation loss')\n",
    "plt.legend()\n",
    "plt.show()"
   ]
  },
  {
   "cell_type": "markdown",
   "metadata": {},
   "source": [
    "## Save the Model"
   ]
  },
  {
   "cell_type": "code",
   "execution_count": 8,
   "metadata": {},
   "outputs": [],
   "source": [
    "# Your code here; save the model for future reference \n",
    "model.save('cats_dogs_downsampled_data.h5')"
   ]
  },
  {
   "cell_type": "markdown",
   "metadata": {},
   "source": [
    "## Data Augmentation\n",
    "\n",
    "Recall that data augmentation is typically always a necessary step when using a small dataset as this one which you have been provided. As such, if you haven't already, implement a data augmentation setup.\n",
    "\n",
    "**Warning: ⏰ This process took nearly 4 hours to run on a relatively new macbook pro. As such, it is recommended that you simply code the setup and compare to the solution branch, or set the process to run overnight if you do choose to actually run the code.** "
   ]
  },
  {
   "cell_type": "code",
   "execution_count": 9,
   "metadata": {
    "scrolled": true
   },
   "outputs": [
    {
     "name": "stdout",
     "output_type": "stream",
     "text": [
      "Found 2140 images belonging to 2 classes.\n",
      "Epoch 1/30\n",
      "100/100 [==============================] - 36s 363ms/step - loss: 0.7130 - acc: 0.6685 - val_loss: 0.5225 - val_acc: 0.7575\n",
      "Epoch 2/30\n",
      "100/100 [==============================] - 37s 370ms/step - loss: 0.5640 - acc: 0.7100 - val_loss: 0.5773 - val_acc: 0.7100\n",
      "Epoch 3/30\n",
      "100/100 [==============================] - 34s 335ms/step - loss: 0.5548 - acc: 0.7115 - val_loss: 0.4945 - val_acc: 0.7625\n",
      "Epoch 4/30\n",
      "100/100 [==============================] - 33s 333ms/step - loss: 0.5431 - acc: 0.7290 - val_loss: 0.4602 - val_acc: 0.7800\n",
      "Epoch 5/30\n",
      "100/100 [==============================] - 33s 334ms/step - loss: 0.5377 - acc: 0.7265 - val_loss: 0.4749 - val_acc: 0.7675\n",
      "Epoch 6/30\n",
      "100/100 [==============================] - 34s 338ms/step - loss: 0.5440 - acc: 0.7255 - val_loss: 0.4556 - val_acc: 0.7750\n",
      "Epoch 7/30\n",
      "100/100 [==============================] - 33s 333ms/step - loss: 0.5262 - acc: 0.7325 - val_loss: 0.4242 - val_acc: 0.8025\n",
      "Epoch 8/30\n",
      "100/100 [==============================] - 33s 333ms/step - loss: 0.5346 - acc: 0.7230 - val_loss: 0.4518 - val_acc: 0.8025\n",
      "Epoch 9/30\n",
      "100/100 [==============================] - 34s 335ms/step - loss: 0.5286 - acc: 0.7315 - val_loss: 0.4840 - val_acc: 0.7600\n",
      "Epoch 10/30\n",
      "100/100 [==============================] - 33s 333ms/step - loss: 0.5071 - acc: 0.7480 - val_loss: 0.4162 - val_acc: 0.8075\n",
      "Epoch 11/30\n",
      "100/100 [==============================] - 33s 332ms/step - loss: 0.5141 - acc: 0.7440 - val_loss: 0.4417 - val_acc: 0.7800\n",
      "Epoch 12/30\n",
      "100/100 [==============================] - 33s 334ms/step - loss: 0.5067 - acc: 0.7450 - val_loss: 0.4143 - val_acc: 0.8225\n",
      "Epoch 13/30\n",
      "100/100 [==============================] - 34s 336ms/step - loss: 0.5117 - acc: 0.7485 - val_loss: 0.4331 - val_acc: 0.8125\n",
      "Epoch 14/30\n",
      "100/100 [==============================] - 33s 333ms/step - loss: 0.4952 - acc: 0.7585 - val_loss: 0.4335 - val_acc: 0.7775\n",
      "Epoch 15/30\n",
      "100/100 [==============================] - 34s 337ms/step - loss: 0.4777 - acc: 0.7710 - val_loss: 0.4313 - val_acc: 0.7925\n",
      "Epoch 16/30\n",
      "100/100 [==============================] - 37s 367ms/step - loss: 0.5047 - acc: 0.7480 - val_loss: 0.4317 - val_acc: 0.7950\n",
      "Epoch 17/30\n",
      "100/100 [==============================] - 37s 371ms/step - loss: 0.4905 - acc: 0.7620 - val_loss: 0.4201 - val_acc: 0.8075\n",
      "Epoch 18/30\n",
      "100/100 [==============================] - 34s 343ms/step - loss: 0.4705 - acc: 0.7705 - val_loss: 0.4455 - val_acc: 0.8125\n",
      "Epoch 19/30\n",
      "100/100 [==============================] - 33s 334ms/step - loss: 0.4756 - acc: 0.7785 - val_loss: 0.3934 - val_acc: 0.8225\n",
      "Epoch 20/30\n",
      "100/100 [==============================] - 34s 338ms/step - loss: 0.4689 - acc: 0.7745 - val_loss: 0.4636 - val_acc: 0.7900\n",
      "Epoch 21/30\n",
      "100/100 [==============================] - 34s 338ms/step - loss: 0.4771 - acc: 0.7685 - val_loss: 0.4247 - val_acc: 0.8175\n",
      "Epoch 22/30\n",
      "100/100 [==============================] - 34s 336ms/step - loss: 0.4700 - acc: 0.7740 - val_loss: 0.4328 - val_acc: 0.7975\n",
      "Epoch 23/30\n",
      "100/100 [==============================] - 34s 342ms/step - loss: 0.4782 - acc: 0.7705 - val_loss: 0.4017 - val_acc: 0.8200\n",
      "Epoch 24/30\n",
      "100/100 [==============================] - 34s 344ms/step - loss: 0.4713 - acc: 0.7695 - val_loss: 0.3933 - val_acc: 0.8275\n",
      "Epoch 25/30\n",
      "100/100 [==============================] - 34s 341ms/step - loss: 0.4565 - acc: 0.7815 - val_loss: 0.3875 - val_acc: 0.8525\n",
      "Epoch 26/30\n",
      "100/100 [==============================] - 36s 361ms/step - loss: 0.4668 - acc: 0.7755 - val_loss: 0.4065 - val_acc: 0.8275\n",
      "Epoch 27/30\n",
      "100/100 [==============================] - 35s 348ms/step - loss: 0.4524 - acc: 0.7945 - val_loss: 0.4169 - val_acc: 0.8150\n",
      "Epoch 28/30\n",
      "100/100 [==============================] - 34s 341ms/step - loss: 0.4504 - acc: 0.7910 - val_loss: 0.3891 - val_acc: 0.8300\n",
      "Epoch 29/30\n",
      "100/100 [==============================] - 34s 336ms/step - loss: 0.4414 - acc: 0.7830 - val_loss: 0.3740 - val_acc: 0.8450\n",
      "Epoch 30/30\n",
      "100/100 [==============================] - 34s 342ms/step - loss: 0.4491 - acc: 0.7930 - val_loss: 0.4784 - val_acc: 0.7825\n"
     ]
    }
   ],
   "source": [
    "# Add data augmentation to the model setup and set the model to train; \n",
    "# See warnings above if you intend to run this block of code \n",
    "# ⏰ This cell may take several hours to run \n",
    "train_datagen = ImageDataGenerator(rescale=1./255,\n",
    "                                   rotation_range=40, \n",
    "                                   width_shift_range=0.2, \n",
    "                                   height_shift_range=0.2, \n",
    "                                   shear_range=0.2, \n",
    "                                   zoom_range=0.2, \n",
    "                                   horizontal_flip=True, \n",
    "                                   fill_mode='nearest')\n",
    "\n",
    "train_generator = train_datagen.flow_from_directory(\n",
    "        # This is the target directory\n",
    "        train_dir,\n",
    "        # All images will be resized to 150x150\n",
    "        target_size=(150, 150),\n",
    "        batch_size=20,\n",
    "        # Since we use binary_crossentropy loss, we need binary labels\n",
    "        class_mode='binary')\n",
    "\n",
    "history = model.fit(train_generator, \n",
    "                              steps_per_epoch=100, \n",
    "                              epochs=30, \n",
    "                              validation_data=validation_generator, \n",
    "                              validation_steps=20)"
   ]
  },
  {
   "cell_type": "code",
   "execution_count": 10,
   "metadata": {},
   "outputs": [
    {
     "data": {
      "image/png": "[encoded data removed]",
      "text/plain": [
       "<Figure size 432x288 with 1 Axes>"
      ]
     },
     "metadata": {
      "needs_background": "light"
     },
     "output_type": "display_data"
    },
    {
     "data": {
      "image/png": "[encoded data removed]",
      "text/plain": [
       "<Figure size 432x288 with 1 Axes>"
      ]
     },
     "metadata": {
      "needs_background": "light"
     },
     "output_type": "display_data"
    }
   ],
   "source": [
    "acc = history.history['acc']\n",
    "val_acc = history.history['val_acc']\n",
    "loss = history.history['loss']\n",
    "val_loss = history.history['val_loss']\n",
    "epochs = range(len(acc))\n",
    "plt.plot(epochs, acc, 'bo', label='Training acc')\n",
    "plt.plot(epochs, val_acc, 'b', label='Validation acc')\n",
    "plt.title('Training and validation accuracy')\n",
    "plt.legend()\n",
    "plt.figure()\n",
    "plt.plot(epochs, loss, 'bo', label='Training loss')\n",
    "plt.plot(epochs, val_loss, 'b', label='Validation loss')\n",
    "plt.title('Training and validation loss')\n",
    "plt.legend()\n",
    "plt.show()"
   ]
  },
  {
   "cell_type": "markdown",
   "metadata": {},
   "source": [
    "Save the model for future reference.  "
   ]
  },
  {
   "cell_type": "code",
   "execution_count": 11,
   "metadata": {},
   "outputs": [],
   "source": [
    "# Save the model \n",
    "model.save('cats_dogs_downsampled_with_augmentation_data.h5')"
   ]
  },
  {
   "cell_type": "markdown",
   "metadata": {},
   "source": [
    "## Final Evaluation\n",
    "\n",
    "Now use the test set to perform a final evaluation on your model of choice. "
   ]
  },
  {
   "cell_type": "code",
   "execution_count": 12,
   "metadata": {},
   "outputs": [
    {
     "name": "stdout",
     "output_type": "stream",
     "text": [
      "Found 425 images belonging to 2 classes.\n",
      "20/20 [==============================] - 2s 87ms/step - loss: 0.5682 - acc: 0.7725\n",
      "test acc: 0.7724999785423279\n"
     ]
    }
   ],
   "source": [
    "# Your code here \n",
    "# Perform a final evaluation using the test set\n",
    "test_datagen = ImageDataGenerator(rescale=1./255)\n",
    "\n",
    "test_generator = test_datagen.flow_from_directory(test_dir, \n",
    "                                                  target_size=(150, 150), \n",
    "                                                  batch_size=20, \n",
    "                                                  class_mode='binary')\n",
    "test_loss, test_acc = model.evaluate(test_generator, steps=20)\n",
    "print('test acc:', test_acc)"
   ]
  },
  {
   "cell_type": "markdown",
   "metadata": {},
   "source": [
    "## Summary\n",
    "\n",
    "Well done! In this lab, you practice building your own CNN for image recognition which drastically outperformed our previous attempts using a standard deep learning model alone. In the upcoming sections, we'll continue to investigate further techniques associated with CNNs including visualizing the representations they learn and techniques to further bolster their performance when we have limited training data such as here."
   ]
  }
 ],
 "metadata": {
  "kernelspec": {
   "display_name": "Python 3",
   "language": "python",
   "name": "python3"
  },
  "language_info": {
   "codemirror_mode": {
    "name": "ipython",
    "version": 3
   },
   "file_extension": ".py",
   "mimetype": "text/x-python",
   "name": "python",
   "nbconvert_exporter": "python",
   "pygments_lexer": "ipython3",
   "version": "3.8.5"
  },
  "toc": {
   "base_numbering": 1,
   "nav_menu": {},
   "number_sections": true,
   "sideBar": true,
   "skip_h1_title": false,
   "title_cell": "Table of Contents",
   "title_sidebar": "Contents",
   "toc_cell": false,
   "toc_position": {},
   "toc_section_display": true,
   "toc_window_display": false
  }
 },
 "nbformat": 4,
 "nbformat_minor": 2
}
